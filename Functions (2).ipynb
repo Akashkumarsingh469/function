{
  "nbformat": 4,
  "nbformat_minor": 0,
  "metadata": {
    "colab": {
      "provenance": []
    },
    "kernelspec": {
      "name": "python3",
      "display_name": "Python 3"
    },
    "language_info": {
      "name": "python"
    }
  },
  "cells": [
    {
      "cell_type": "markdown",
      "source": [
        "#Functions"
      ],
      "metadata": {
        "id": "XB2LZZ0RShR9"
      }
    },
    {
      "cell_type": "markdown",
      "source": [
        "1. What is the difference between a function and a method in Python?\n",
        "-A function is a block of code that performs a task and is independent of objects. A method is similar but is associated with an object and is called using the dot (.) operator.\n",
        "\n"
      ],
      "metadata": {
        "id": "04KnYJU_SoTq"
      }
    },
    {
      "cell_type": "markdown",
      "source": [
        "2.Explain the concept of function arguments and parameters in Python?\n",
        "\n",
        "-Parameters are variables listed in a function definition. Arguments are the actual values passed to the function when it is called.\n",
        "\n"
      ],
      "metadata": {
        "id": "Gv7JRqmkS_9M"
      }
    },
    {
      "cell_type": "markdown",
      "source": [
        "3.What are the different ways to define and call a function in Python?\n",
        "\n",
        "-Functions can be defined using the def keyword or as lambda expressions. They are called by writing the function name followed by parentheses.\n"
      ],
      "metadata": {
        "id": "Rfe3K6gsTHaA"
      }
    },
    {
      "cell_type": "markdown",
      "source": [
        "4.What is the purpose of the `return` statement in a Python function?\n",
        "\n",
        "-The return statement is used to send the result from a function back to the caller and to exit the function.\n",
        "\n"
      ],
      "metadata": {
        "id": "2nzGb8pMTMzr"
      }
    },
    {
      "cell_type": "markdown",
      "source": [
        "5.What are iterators in Python and how do they differ from iterables?\n",
        "\n",
        "-An iterator is an object with a _next_() method to get the next value. An iterable is an object that can return an iterator using the iter() method.\n",
        "\n"
      ],
      "metadata": {
        "id": "7RhufBmoTQ-r"
      }
    },
    {
      "cell_type": "markdown",
      "source": [
        "6.Explain the concept of generators in Python and how they are defined?\n",
        "\n",
        "-Generators are functions that yield values one at a time using the yield keyword, instead of returning all at once, allowing memory-efficient iteration."
      ],
      "metadata": {
        "id": "8PwOXNJ5TV4k"
      }
    },
    {
      "cell_type": "markdown",
      "source": [
        "7.What are the advantages of using generators over regular functions?\n",
        "\n",
        "-Generators use less memory and are more efficient when dealing with large datasets or infinite sequences, as they generate values only when needed.\n"
      ],
      "metadata": {
        "id": "UgsUlzf8Tarr"
      }
    },
    {
      "cell_type": "markdown",
      "source": [
        "8.What is a lambda function in Python and when is it typically used?\n",
        "\n",
        "-A lambda function is an anonymous, one-line function used when a short function is needed temporarily, often with functions like map(), filter(), etc.\n",
        "\n",
        "\n"
      ],
      "metadata": {
        "id": "_H4MtytjTeye"
      }
    },
    {
      "cell_type": "markdown",
      "source": [
        "9. Explain the purpose and usage of the `map()` function in Python?\n",
        "\n",
        "-The map() function applies a given function to each item of an iterable, returning a new iterable with the results.\n"
      ],
      "metadata": {
        "id": "y_BsxsH0Tigm"
      }
    },
    {
      "cell_type": "markdown",
      "source": [
        "10. What is the difference between `map()`, `reduce()`, and `filter()` functions in Python?\n",
        "\n",
        "-map() transforms each item in an iterable.\n",
        "filter() selects items that meet a condition.\n",
        "reduce() combines all items using a function to return a single value.\n"
      ],
      "metadata": {
        "id": "l2TJNaLwTmwJ"
      }
    },
    {
      "cell_type": "code",
      "source": [
        "#1. Write a Python function that takes a list of numbers as input and returns the sum of all even numbers in\n",
        "the list?\n",
        "def sum_of_evens(numbers):\n",
        "    return sum(num for num in numbers if num % 2 == 0)\n",
        "print(\"1. sum of even numbers:\",sum_of_evens([1, 2, 3, 4, 5, 6, 7, 8, 9, 10]))\n"
      ],
      "metadata": {
        "id": "MBdhPvQlCD9x",
        "colab": {
          "base_uri": "https://localhost:8080/"
        },
        "outputId": "b19683a6-e915-469f-b8f4-3b534ccff540"
      },
      "execution_count": 9,
      "outputs": [
        {
          "output_type": "stream",
          "name": "stdout",
          "text": [
            "1. sum of even numbers: 30\n"
          ]
        }
      ]
    },
    {
      "cell_type": "code",
      "source": [
        "#2. Create a Python function that accepts a string and returns the reverse of that string?\n",
        "def reverse_string(string):\n",
        "    return string[::-1]\n",
        "print(\"2. reverse of string:\",\n",
        "reverse_string(\"hello\"))"
      ],
      "metadata": {
        "id": "iFjkzf5CCInT",
        "colab": {
          "base_uri": "https://localhost:8080/"
        },
        "outputId": "63ef33b2-6a43-4120-ca53-df9498771d8e"
      },
      "execution_count": 10,
      "outputs": [
        {
          "output_type": "stream",
          "name": "stdout",
          "text": [
            "2. reverse of string: olleh\n"
          ]
        }
      ]
    },
    {
      "cell_type": "code",
      "source": [
        "#3. Implement a Python function that takes a list of integers and returns a new list containing the squares of\n",
        "each number?\n",
        "def square_list(lst):\n",
        "    return [x**2 for x in lst]\n",
        "print(\"3. Squared list:\",\n",
        "square_list([1, 2, 3, 4]))"
      ],
      "metadata": {
        "id": "9GOJAxYVCJ0H",
        "colab": {
          "base_uri": "https://localhost:8080/"
        },
        "outputId": "f8f4b6a7-6a8f-4b2e-92d6-5cb88dcc2917"
      },
      "execution_count": 11,
      "outputs": [
        {
          "output_type": "stream",
          "name": "stdout",
          "text": [
            "Object `number` not found.\n",
            "3. Squared list: [1, 4, 9, 16]\n"
          ]
        }
      ]
    },
    {
      "cell_type": "code",
      "source": [
        "#4. Prime numbers from 1 to 200\n",
        "def is_prime(n):\n",
        "    if n <= 1:\n",
        "        return False\n",
        "    for i in range(2, int(n**0.5)+1):\n",
        "        if n % i == 0:\n",
        "            return False\n",
        "    return True\n",
        "\n",
        "primes = [i for i in range(1, 201) if is_prime(i)]\n",
        "print(\"4. Prime numbers from 1 to 200:\", primes)\n"
      ],
      "metadata": {
        "id": "8hgtfdd3CLXN",
        "colab": {
          "base_uri": "https://localhost:8080/"
        },
        "outputId": "650b876d-9248-4d57-8236-dd0dd0d2e643"
      },
      "execution_count": 12,
      "outputs": [
        {
          "output_type": "stream",
          "name": "stdout",
          "text": [
            "4. Prime numbers from 1 to 200: [2, 3, 5, 7, 11, 13, 17, 19, 23, 29, 31, 37, 41, 43, 47, 53, 59, 61, 67, 71, 73, 79, 83, 89, 97, 101, 103, 107, 109, 113, 127, 131, 137, 139, 149, 151, 157, 163, 167, 173, 179, 181, 191, 193, 197, 199]\n"
          ]
        }
      ]
    },
    {
      "cell_type": "markdown",
      "source": [],
      "metadata": {
        "id": "3jYigCh2zvsA"
      }
    },
    {
      "cell_type": "code",
      "source": [
        "#5. Iterator class for Fibonacci sequence\n",
        "class Fibonacci:\n",
        "    def __init__(self, limit):\n",
        "        self.limit = limit  # total number of terms to generate\n",
        "        self.count = 0\n",
        "        self.a, self.b = 0, 1\n",
        "\n",
        "    def __iter__(self):\n",
        "        return self\n",
        "\n",
        "    def __next__(self):\n",
        "        if self.count >= self.limit:\n",
        "            raise StopIteration\n",
        "        if self.count == 0:\n",
        "            self.count += 1\n",
        "            return self.a\n",
        "        elif self.count == 1:\n",
        "            self.count += 1\n",
        "            return self.b\n",
        "        else:\n",
        "            self.a, self.b = self.b, self.a + self.b\n",
        "            self.count += 1\n",
        "            return self.b\n",
        "\n",
        "\n",
        "\n",
        "print(\"Fibonacci sequence (10 terms):\")\n",
        "for num in fibonacci:\n",
        "    print(num, end=\" \")"
      ],
      "metadata": {
        "id": "HimlIWKSCNJM",
        "colab": {
          "base_uri": "https://localhost:8080/",
          "height": 211
        },
        "outputId": "bce95571-440e-4bc9-fc8c-0cc2a312727e"
      },
      "execution_count": 19,
      "outputs": [
        {
          "output_type": "stream",
          "name": "stdout",
          "text": [
            "Fibonacci sequence (10 terms):\n"
          ]
        },
        {
          "output_type": "error",
          "ename": "NameError",
          "evalue": "name 'fibonacci' is not defined",
          "traceback": [
            "\u001b[0;31m---------------------------------------------------------------------------\u001b[0m",
            "\u001b[0;31mNameError\u001b[0m                                 Traceback (most recent call last)",
            "\u001b[0;32m/tmp/ipython-input-2905462611.py\u001b[0m in \u001b[0;36m<cell line: 0>\u001b[0;34m()\u001b[0m\n\u001b[1;32m     26\u001b[0m \u001b[0;34m\u001b[0m\u001b[0m\n\u001b[1;32m     27\u001b[0m \u001b[0mprint\u001b[0m\u001b[0;34m(\u001b[0m\u001b[0;34m\"Fibonacci sequence (10 terms):\"\u001b[0m\u001b[0;34m)\u001b[0m\u001b[0;34m\u001b[0m\u001b[0;34m\u001b[0m\u001b[0m\n\u001b[0;32m---> 28\u001b[0;31m \u001b[0;32mfor\u001b[0m \u001b[0mnum\u001b[0m \u001b[0;32min\u001b[0m \u001b[0mfibonacci\u001b[0m\u001b[0;34m:\u001b[0m\u001b[0;34m\u001b[0m\u001b[0;34m\u001b[0m\u001b[0m\n\u001b[0m\u001b[1;32m     29\u001b[0m     \u001b[0mprint\u001b[0m\u001b[0;34m(\u001b[0m\u001b[0mnum\u001b[0m\u001b[0;34m,\u001b[0m \u001b[0mend\u001b[0m\u001b[0;34m=\u001b[0m\u001b[0;34m\" \"\u001b[0m\u001b[0;34m)\u001b[0m\u001b[0;34m\u001b[0m\u001b[0;34m\u001b[0m\u001b[0m\n",
            "\u001b[0;31mNameError\u001b[0m: name 'fibonacci' is not defined"
          ]
        }
      ]
    },
    {
      "cell_type": "markdown",
      "source": [],
      "metadata": {
        "id": "uw759ygOAHnq"
      }
    },
    {
      "cell_type": "code",
      "source": [
        "#6.Generator for powers of 2\n",
        "def powers_of_two(exp):\n",
        "    for i in range(exp+1):\n",
        "        yield 2**i\n",
        "\n",
        "print(\"6. Powers of 2:\", list(powers_of_two(5)))\n"
      ],
      "metadata": {
        "id": "V3If0MRJIaaO",
        "colab": {
          "base_uri": "https://localhost:8080/"
        },
        "outputId": "d1c242be-367f-47fd-859c-0121903d8341"
      },
      "execution_count": 20,
      "outputs": [
        {
          "output_type": "stream",
          "name": "stdout",
          "text": [
            "6. Powers of 2: [1, 2, 4, 8, 16, 32]\n"
          ]
        }
      ]
    },
    {
      "cell_type": "code",
      "execution_count": 21,
      "metadata": {
        "id": "gZnN_3eKSRuD",
        "colab": {
          "base_uri": "https://localhost:8080/"
        },
        "outputId": "ba716be1-59a2-4c3e-efbb-6c8521b69cb1"
      },
      "outputs": [
        {
          "output_type": "stream",
          "name": "stdout",
          "text": [
            "7. Lines from generator: ['Line 1', 'Line 2', 'Line 3']\n"
          ]
        }
      ],
      "source": [
        "#7.. Implement a generator function that reads a file line by line and yields each line as a string?\n",
        "def read_lines(lines):\n",
        "    for line in lines:\n",
        "        yield line.strip()\n",
        "\n",
        "sample_lines = [\"Line 1\\n\", \"Line 2\\n\", \"Line 3\\n\"]\n",
        "print(\"7. Lines from generator:\", list(read_lines(sample_lines)))\n"
      ]
    },
    {
      "cell_type": "code",
      "source": [
        "#8.Use a lambda function in Python to sort a list of tuples based on the second element of each tuple?\n",
        "tuples = [(1, 3), (2, 1), (4, 2)]\n",
        "sorted_tuples = sorted(tuples, key=lambda x: x[1])\n",
        "print(\"8. Sorted tuples:\", sorted_tuples)\n",
        "\n"
      ],
      "metadata": {
        "id": "G456hPdqIxJz",
        "colab": {
          "base_uri": "https://localhost:8080/"
        },
        "outputId": "14d64a55-a978-4333-f4b9-a168a3c72b9c"
      },
      "execution_count": 14,
      "outputs": [
        {
          "output_type": "stream",
          "name": "stdout",
          "text": [
            "8. Sorted tuples: [(2, 1), (4, 2), (1, 3)]\n"
          ]
        }
      ]
    },
    {
      "cell_type": "code",
      "source": [
        "#9. Write a Python program that uses `map()` to convert a list of temperatures from Celsius to Fahrenheit?\n",
        "def c_to_f(c):\n",
        "    return list(map(lambda x: (x * 9/5) + 32, c))\n",
        "\n",
        "print(\"9. Celsius to Fahrenheit:\", c_to_f([0, 20, 37, 100]))"
      ],
      "metadata": {
        "id": "GIUIg7XSJC94",
        "colab": {
          "base_uri": "https://localhost:8080/"
        },
        "outputId": "23fe5fa5-198a-4311-e9ec-bd1eeb20f51a"
      },
      "execution_count": 15,
      "outputs": [
        {
          "output_type": "stream",
          "name": "stdout",
          "text": [
            "9. Celsius to Fahrenheit: [32.0, 68.0, 98.6, 212.0]\n"
          ]
        }
      ]
    },
    {
      "cell_type": "code",
      "source": [
        "#10. Create a Python program that uses `filter()` to remove all the vowels from a given string?\n",
        "def remove_vowels(string):\n",
        "    return ''.join(filter(lambda x: x.lower() not in 'aeiou', string))\n",
        "\n",
        "print(\"10. String without vowels:\", remove_vowels(\"Hello World\"))"
      ],
      "metadata": {
        "id": "KKF27SoYJSvx",
        "colab": {
          "base_uri": "https://localhost:8080/"
        },
        "outputId": "661ee1ba-cb0e-4980-c0c9-8b7bd73338d4"
      },
      "execution_count": 16,
      "outputs": [
        {
          "output_type": "stream",
          "name": "stdout",
          "text": [
            "10. String without vowels: Hll Wrld\n"
          ]
        }
      ]
    },
    {
      "cell_type": "code",
      "source": [
        "#11.Write a Python program, which returns a list with 2-tuples. Each tuple consists of the order number and the\n",
        "#product of the price per item and the quantity. The product should be increased by 10,- € if the value of the\n",
        "#order is smaller than 100,00 €.\n",
        "\n",
        "#Write a Python program using lambda and map?\n",
        "\n",
        "orders = [\n",
        "    [34587, \"Learning Python, Mark Lutz\", 4, 40.95],\n",
        "    [98762, \"Programming Python, Mark Lutz\", 5, 56.80],\n",
        "    [77226, \"Head First Python, Paul Barry\", 3, 32.95],\n",
        "    [88112, \"Einführung in Python3, Bernd Klein\", 3, 24.99]\n",
        "]\n",
        "\n",
        "# Apply lambda + map\n",
        "result = list(map(lambda order:\n",
        "    (order[0], round(order[2] * order[3] * 1.1, 2))\n",
        "    if order[2] * order[3] < 100\n",
        "    else (order[0], round(order[2] * order[3], 2)),\n",
        "    orders))\n",
        "\n",
        "# Print result\n",
        "print(\"Final List (Order No, Final Price):\")\n",
        "for item in result:\n",
        "    print(item)\n",
        "\n"
      ],
      "metadata": {
        "id": "QliMo8YsJed1",
        "colab": {
          "base_uri": "https://localhost:8080/"
        },
        "outputId": "614083cd-743b-457d-c1c7-e810f26f0096"
      },
      "execution_count": 17,
      "outputs": [
        {
          "output_type": "stream",
          "name": "stdout",
          "text": [
            "Final List (Order No, Final Price):\n",
            "(34587, 163.8)\n",
            "(98762, 284.0)\n",
            "(77226, 108.74)\n",
            "(88112, 82.47)\n"
          ]
        }
      ]
    }
  ]
}